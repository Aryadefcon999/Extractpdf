{
 "cells": [
  {
   "cell_type": "code",
   "execution_count": 2,
   "id": "490abad4",
   "metadata": {},
   "outputs": [
    {
     "name": "stdout",
     "output_type": "stream",
     "text": [
      "Requirement already satisfied: tabula-py in c:\\users\\ketan\\anaconda3\\lib\\site-packages (2.4.0)\n",
      "Requirement already satisfied: numpy in c:\\users\\ketan\\anaconda3\\lib\\site-packages (from tabula-py) (1.21.5)\n",
      "Requirement already satisfied: pandas>=0.25.3 in c:\\users\\ketan\\anaconda3\\lib\\site-packages (from tabula-py) (1.4.2)\n",
      "Requirement already satisfied: distro in c:\\users\\ketan\\anaconda3\\lib\\site-packages (from tabula-py) (1.7.0)\n",
      "Requirement already satisfied: pytz>=2020.1 in c:\\users\\ketan\\anaconda3\\lib\\site-packages (from pandas>=0.25.3->tabula-py) (2022.1)\n",
      "Requirement already satisfied: python-dateutil>=2.8.1 in c:\\users\\ketan\\anaconda3\\lib\\site-packages (from pandas>=0.25.3->tabula-py) (2.8.2)\n",
      "Requirement already satisfied: six>=1.5 in c:\\users\\ketan\\anaconda3\\lib\\site-packages (from python-dateutil>=2.8.1->pandas>=0.25.3->tabula-py) (1.16.0)\n",
      "Note: you may need to restart the kernel to use updated packages.\n"
     ]
    }
   ],
   "source": [
    "pip install tabula-py"
   ]
  },
  {
   "cell_type": "code",
   "execution_count": 4,
   "id": "79127613",
   "metadata": {},
   "outputs": [],
   "source": [
    "import tabula\n",
    "import pandas as pd\n",
    "import matplotlib as plt"
   ]
  },
  {
   "cell_type": "code",
   "execution_count": 9,
   "id": "d3bb0ada",
   "metadata": {
    "scrolled": true
   },
   "outputs": [],
   "source": [
    "data=tabula.read_pdf('Food Calories List.pdf',pages='1')\n",
    "tabula."
   ]
  },
  {
   "cell_type": "code",
   "execution_count": 10,
   "id": "5f4c3da1",
   "metadata": {},
   "outputs": [
    {
     "data": {
      "text/plain": [
       "[              BREADS & CEREALS               Portion size *  \\\n",
       " 0          Bagel ( 1 average )               140 cals (45g)   \n",
       " 1           Biscuit digestives        86 cals (per biscuit)   \n",
       " 2                   Jaffa cake        48 cals (per biscuit)   \n",
       " 3    Bread white (thick slice)       96  cals (1 slice 40g)   \n",
       " 4      Bread wholemeal (thick)       88  cals (1 slice 40g)   \n",
       " 5                     Chapatis                     250 cals   \n",
       " 6                   Cornflakes              130  cals (35g)   \n",
       " 7                 Crackerbread            17 cals per slice   \n",
       " 8               Cream crackers        35 cals (per cracker)   \n",
       " 9                     Crumpets        93 cals (per crumpet)   \n",
       " 10   Flapjacks basic fruit mix                     320 cals   \n",
       " 11           Macaroni (boiled)              238 cals (250g)   \n",
       " 12                      Muesli              195  cals (50g)   \n",
       " 13         Naan bread (normal)  300 cals (small plate size)   \n",
       " 14            Noodles (boiled)              175 cals (250g)   \n",
       " 15     Pasta ( normal boiled )              330 cals (300g)   \n",
       " 16   Pasta (wholemeal boiled )              315 cals (300g)   \n",
       " 17  Porridge oats (with water)              193 cals (350g)   \n",
       " 18         Potatoes** (boiled)              210 cals (300g)   \n",
       " 19          Potatoes** (roast)              420 cals (300g)   \n",
       " \n",
       "    per 100 grams (3.5 oz)  Unnamed: 0 energy content  \n",
       " 0                310 cals         NaN         Medium  \n",
       " 1                480 cals         NaN           High  \n",
       " 2                370 cals         NaN       Med-High  \n",
       " 3                240 cals         NaN         Medium  \n",
       " 4                220 cals         NaN        Low-med  \n",
       " 5                300 cals         NaN         Medium  \n",
       " 6                370 cals         NaN       Med-High  \n",
       " 7                325 cals         NaN    Low Calorie  \n",
       " 8                440 cals         NaN  Low / portion  \n",
       " 9                198 cals         NaN        Low-Med  \n",
       " 10               500 cals         NaN           High  \n",
       " 11                95 cals         NaN    Low calorie  \n",
       " 12               390 cals         NaN       Med-high  \n",
       " 13               320 cals         NaN         Medium  \n",
       " 14                70 cals         NaN    Low calorie  \n",
       " 15               110 cals         NaN    Low calorie  \n",
       " 16               105 cals         NaN    Low calorie  \n",
       " 17                55 cals         NaN    Low calorie  \n",
       " 18                70 cals         NaN    Low calorie  \n",
       " 19               140 cals         NaN         Medium  ]"
      ]
     },
     "execution_count": 10,
     "metadata": {},
     "output_type": "execute_result"
    }
   ],
   "source": [
    "data"
   ]
  },
  {
   "cell_type": "markdown",
   "id": "8baf8717",
   "metadata": {},
   "source": [
    "    "
   ]
  },
  {
   "cell_type": "code",
   "execution_count": 27,
   "id": "bc1a5823",
   "metadata": {},
   "outputs": [
    {
     "ename": "TypeError",
     "evalue": "'module' object is not callable",
     "output_type": "error",
     "traceback": [
      "\u001b[1;31m---------------------------------------------------------------------------\u001b[0m",
      "\u001b[1;31mTypeError\u001b[0m                                 Traceback (most recent call last)",
      "Input \u001b[1;32mIn [27]\u001b[0m, in \u001b[0;36m<cell line: 1>\u001b[1;34m()\u001b[0m\n\u001b[1;32m----> 1\u001b[0m \u001b[43mplt\u001b[49m\u001b[38;5;241;43m.\u001b[39;49m\u001b[43mpyplot\u001b[49m\u001b[43m(\u001b[49m\u001b[43mdf\u001b[49m\u001b[43m)\u001b[49m\n",
      "\u001b[1;31mTypeError\u001b[0m: 'module' object is not callable"
     ]
    }
   ],
   "source": []
  },
  {
   "cell_type": "code",
   "execution_count": 8,
   "id": "de6dced8",
   "metadata": {},
   "outputs": [
    {
     "ename": "NameError",
     "evalue": "name 'new' is not defined",
     "output_type": "error",
     "traceback": [
      "\u001b[1;31m---------------------------------------------------------------------------\u001b[0m",
      "\u001b[1;31mNameError\u001b[0m                                 Traceback (most recent call last)",
      "Input \u001b[1;32mIn [8]\u001b[0m, in \u001b[0;36m<cell line: 1>\u001b[1;34m()\u001b[0m\n\u001b[1;32m----> 1\u001b[0m \u001b[43mnew\u001b[49m\u001b[38;5;241m.\u001b[39mhead()\n",
      "\u001b[1;31mNameError\u001b[0m: name 'new' is not defined"
     ]
    }
   ],
   "source": [
    "new.head()"
   ]
  },
  {
   "cell_type": "code",
   "execution_count": null,
   "id": "6146d2aa",
   "metadata": {},
   "outputs": [],
   "source": []
  }
 ],
 "metadata": {
  "kernelspec": {
   "display_name": "Python 3 (ipykernel)",
   "language": "python",
   "name": "python3"
  },
  "language_info": {
   "codemirror_mode": {
    "name": "ipython",
    "version": 3
   },
   "file_extension": ".py",
   "mimetype": "text/x-python",
   "name": "python",
   "nbconvert_exporter": "python",
   "pygments_lexer": "ipython3",
   "version": "3.9.7"
  }
 },
 "nbformat": 4,
 "nbformat_minor": 5
}
