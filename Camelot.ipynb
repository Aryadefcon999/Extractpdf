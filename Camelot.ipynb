{
 "cells": [
  {
   "cell_type": "code",
   "execution_count": 1,
   "id": "0f50eff8",
   "metadata": {},
   "outputs": [],
   "source": [
    "import camelot\n",
    "import pandas as pd\n",
    "from PyPDF2 import PdfFileReader, PdfFileWriter\n"
   ]
  },
  {
   "cell_type": "code",
   "execution_count": 4,
   "id": "43330857",
   "metadata": {},
   "outputs": [],
   "source": [
    "tables = camelot.read_pdf('Food Calories List.pdf')\n"
   ]
  },
  {
   "cell_type": "code",
   "execution_count": 5,
   "id": "4b92993f",
   "metadata": {},
   "outputs": [
    {
     "data": {
      "text/plain": [
       "<bound method TableList.export of <TableList n=1>>"
      ]
     },
     "execution_count": 5,
     "metadata": {},
     "output_type": "execute_result"
    }
   ],
   "source": [
    "tables.export"
   ]
  },
  {
   "cell_type": "code",
   "execution_count": 6,
   "id": "fdebe486",
   "metadata": {},
   "outputs": [
    {
     "data": {
      "text/plain": [
       "<Table shape=(21, 4)>"
      ]
     },
     "execution_count": 6,
     "metadata": {},
     "output_type": "execute_result"
    }
   ],
   "source": [
    "tables[0]\n"
   ]
  },
  {
   "cell_type": "code",
   "execution_count": 7,
   "id": "4544b65b",
   "metadata": {},
   "outputs": [
    {
     "data": {
      "text/plain": [
       "{'accuracy': 100.0, 'whitespace': 3.57, 'order': 1, 'page': 1}"
      ]
     },
     "execution_count": 7,
     "metadata": {},
     "output_type": "execute_result"
    }
   ],
   "source": [
    "tables[0].parsing_report"
   ]
  },
  {
   "cell_type": "code",
   "execution_count": 10,
   "id": "97cab99a",
   "metadata": {},
   "outputs": [
    {
     "data": {
      "text/html": [
       "<div>\n",
       "<style scoped>\n",
       "    .dataframe tbody tr th:only-of-type {\n",
       "        vertical-align: middle;\n",
       "    }\n",
       "\n",
       "    .dataframe tbody tr th {\n",
       "        vertical-align: top;\n",
       "    }\n",
       "\n",
       "    .dataframe thead th {\n",
       "        text-align: right;\n",
       "    }\n",
       "</style>\n",
       "<table border=\"1\" class=\"dataframe\">\n",
       "  <thead>\n",
       "    <tr style=\"text-align: right;\">\n",
       "      <th></th>\n",
       "      <th>0</th>\n",
       "      <th>1</th>\n",
       "      <th>2</th>\n",
       "      <th>3</th>\n",
       "    </tr>\n",
       "  </thead>\n",
       "  <tbody>\n",
       "    <tr>\n",
       "      <th>0</th>\n",
       "      <td>per 100 grams \\nBREADS &amp; CEREALS \\nPortion siz...</td>\n",
       "      <td></td>\n",
       "      <td></td>\n",
       "      <td></td>\n",
       "    </tr>\n",
       "    <tr>\n",
       "      <th>1</th>\n",
       "      <td>Bagel ( 1 average )</td>\n",
       "      <td>140 cals (45g)</td>\n",
       "      <td>310 cals</td>\n",
       "      <td>Medium</td>\n",
       "    </tr>\n",
       "    <tr>\n",
       "      <th>2</th>\n",
       "      <td>Biscuit digestives</td>\n",
       "      <td>86 cals (per biscuit)</td>\n",
       "      <td>480 cals</td>\n",
       "      <td>High</td>\n",
       "    </tr>\n",
       "    <tr>\n",
       "      <th>3</th>\n",
       "      <td>Jaffa cake</td>\n",
       "      <td>48 cals (per biscuit)</td>\n",
       "      <td>370 cals</td>\n",
       "      <td>Med-High</td>\n",
       "    </tr>\n",
       "    <tr>\n",
       "      <th>4</th>\n",
       "      <td>Bread white (thick slice)</td>\n",
       "      <td>96  cals (1 slice 40g)</td>\n",
       "      <td>240 cals</td>\n",
       "      <td>Medium</td>\n",
       "    </tr>\n",
       "    <tr>\n",
       "      <th>5</th>\n",
       "      <td>Bread wholemeal (thick)</td>\n",
       "      <td>88  cals (1 slice 40g)</td>\n",
       "      <td>220 cals</td>\n",
       "      <td>Low-med</td>\n",
       "    </tr>\n",
       "    <tr>\n",
       "      <th>6</th>\n",
       "      <td>Chapatis</td>\n",
       "      <td>250 cals</td>\n",
       "      <td>300 cals</td>\n",
       "      <td>Medium</td>\n",
       "    </tr>\n",
       "    <tr>\n",
       "      <th>7</th>\n",
       "      <td>Cornflakes</td>\n",
       "      <td>130  cals (35g)</td>\n",
       "      <td>370 cals</td>\n",
       "      <td>Med-High</td>\n",
       "    </tr>\n",
       "    <tr>\n",
       "      <th>8</th>\n",
       "      <td>Crackerbread</td>\n",
       "      <td>17 cals per slice</td>\n",
       "      <td>325 cals</td>\n",
       "      <td>Low Calorie</td>\n",
       "    </tr>\n",
       "    <tr>\n",
       "      <th>9</th>\n",
       "      <td>Cream crackers</td>\n",
       "      <td>35 cals (per cracker)</td>\n",
       "      <td>440 cals</td>\n",
       "      <td>Low / portion</td>\n",
       "    </tr>\n",
       "    <tr>\n",
       "      <th>10</th>\n",
       "      <td>Crumpets</td>\n",
       "      <td>93 cals (per crumpet)</td>\n",
       "      <td>198 cals</td>\n",
       "      <td>Low-Med</td>\n",
       "    </tr>\n",
       "    <tr>\n",
       "      <th>11</th>\n",
       "      <td>Flapjacks basic fruit mix</td>\n",
       "      <td>320 cals</td>\n",
       "      <td>500 cals</td>\n",
       "      <td>High</td>\n",
       "    </tr>\n",
       "    <tr>\n",
       "      <th>12</th>\n",
       "      <td>Macaroni (boiled)</td>\n",
       "      <td>238 cals (250g)</td>\n",
       "      <td>95 cals</td>\n",
       "      <td>Low calorie</td>\n",
       "    </tr>\n",
       "    <tr>\n",
       "      <th>13</th>\n",
       "      <td>Muesli</td>\n",
       "      <td>195  cals (50g)</td>\n",
       "      <td>390 cals</td>\n",
       "      <td>Med-high</td>\n",
       "    </tr>\n",
       "    <tr>\n",
       "      <th>14</th>\n",
       "      <td>Naan bread (normal)</td>\n",
       "      <td>300 cals (small plate size)</td>\n",
       "      <td>320 cals</td>\n",
       "      <td>Medium</td>\n",
       "    </tr>\n",
       "    <tr>\n",
       "      <th>15</th>\n",
       "      <td>Noodles (boiled)</td>\n",
       "      <td>175 cals (250g)</td>\n",
       "      <td>70 cals</td>\n",
       "      <td>Low calorie</td>\n",
       "    </tr>\n",
       "    <tr>\n",
       "      <th>16</th>\n",
       "      <td>Pasta ( normal boiled )</td>\n",
       "      <td>330 cals (300g)</td>\n",
       "      <td>110 cals</td>\n",
       "      <td>Low calorie</td>\n",
       "    </tr>\n",
       "    <tr>\n",
       "      <th>17</th>\n",
       "      <td>Pasta (wholemeal boiled )</td>\n",
       "      <td>315 cals (300g)</td>\n",
       "      <td>105 cals</td>\n",
       "      <td>Low calorie</td>\n",
       "    </tr>\n",
       "    <tr>\n",
       "      <th>18</th>\n",
       "      <td>Porridge oats (with water)</td>\n",
       "      <td>193 cals (350g)</td>\n",
       "      <td>55 cals</td>\n",
       "      <td>Low calorie</td>\n",
       "    </tr>\n",
       "    <tr>\n",
       "      <th>19</th>\n",
       "      <td>Potatoes** (boiled)</td>\n",
       "      <td>210 cals (300g)</td>\n",
       "      <td>70 cals</td>\n",
       "      <td>Low calorie</td>\n",
       "    </tr>\n",
       "    <tr>\n",
       "      <th>20</th>\n",
       "      <td>Potatoes** (roast)</td>\n",
       "      <td>420 cals (300g)</td>\n",
       "      <td>140 cals</td>\n",
       "      <td>Medium</td>\n",
       "    </tr>\n",
       "  </tbody>\n",
       "</table>\n",
       "</div>"
      ],
      "text/plain": [
       "                                                    0  \\\n",
       "0   per 100 grams \\nBREADS & CEREALS \\nPortion siz...   \n",
       "1                                 Bagel ( 1 average )   \n",
       "2                                  Biscuit digestives   \n",
       "3                                          Jaffa cake   \n",
       "4                           Bread white (thick slice)   \n",
       "5                             Bread wholemeal (thick)   \n",
       "6                                            Chapatis   \n",
       "7                                          Cornflakes   \n",
       "8                                        Crackerbread   \n",
       "9                                      Cream crackers   \n",
       "10                                           Crumpets   \n",
       "11                          Flapjacks basic fruit mix   \n",
       "12                                  Macaroni (boiled)   \n",
       "13                                             Muesli   \n",
       "14                                Naan bread (normal)   \n",
       "15                                   Noodles (boiled)   \n",
       "16                            Pasta ( normal boiled )   \n",
       "17                          Pasta (wholemeal boiled )   \n",
       "18                         Porridge oats (with water)   \n",
       "19                                Potatoes** (boiled)   \n",
       "20                                 Potatoes** (roast)   \n",
       "\n",
       "                              1         2              3  \n",
       "0                                                         \n",
       "1                140 cals (45g)  310 cals         Medium  \n",
       "2         86 cals (per biscuit)  480 cals           High  \n",
       "3         48 cals (per biscuit)  370 cals       Med-High  \n",
       "4        96  cals (1 slice 40g)  240 cals         Medium  \n",
       "5        88  cals (1 slice 40g)  220 cals        Low-med  \n",
       "6                      250 cals  300 cals         Medium  \n",
       "7               130  cals (35g)  370 cals       Med-High  \n",
       "8             17 cals per slice  325 cals    Low Calorie  \n",
       "9         35 cals (per cracker)  440 cals  Low / portion  \n",
       "10        93 cals (per crumpet)  198 cals        Low-Med  \n",
       "11                     320 cals  500 cals           High  \n",
       "12              238 cals (250g)   95 cals    Low calorie  \n",
       "13              195  cals (50g)  390 cals       Med-high  \n",
       "14  300 cals (small plate size)  320 cals         Medium  \n",
       "15              175 cals (250g)   70 cals    Low calorie  \n",
       "16              330 cals (300g)  110 cals    Low calorie  \n",
       "17              315 cals (300g)  105 cals    Low calorie  \n",
       "18              193 cals (350g)   55 cals    Low calorie  \n",
       "19              210 cals (300g)   70 cals    Low calorie  \n",
       "20              420 cals (300g)  140 cals         Medium  "
      ]
     },
     "execution_count": 10,
     "metadata": {},
     "output_type": "execute_result"
    }
   ],
   "source": [
    "tables[0].df"
   ]
  },
  {
   "cell_type": "code",
   "execution_count": null,
   "id": "ed8cafa2",
   "metadata": {},
   "outputs": [],
   "source": [
    "tables[0].to_csv\n"
   ]
  },
  {
   "cell_type": "code",
   "execution_count": 25,
   "id": "0eeb2551",
   "metadata": {},
   "outputs": [
    {
     "ename": "NameError",
     "evalue": "name 'df1' is not defined",
     "output_type": "error",
     "traceback": [
      "\u001b[1;31m---------------------------------------------------------------------------\u001b[0m",
      "\u001b[1;31mNameError\u001b[0m                                 Traceback (most recent call last)",
      "\u001b[1;32m~\\AppData\\Local\\Temp/ipykernel_11700/3309751900.py\u001b[0m in \u001b[0;36m<module>\u001b[1;34m\u001b[0m\n\u001b[1;32m----> 1\u001b[1;33m \u001b[0mdf1\u001b[0m\u001b[1;33m\u001b[0m\u001b[1;33m\u001b[0m\u001b[0m\n\u001b[0m",
      "\u001b[1;31mNameError\u001b[0m: name 'df1' is not defined"
     ]
    }
   ],
   "source": []
  },
  {
   "cell_type": "code",
   "execution_count": null,
   "id": "677fd464",
   "metadata": {},
   "outputs": [],
   "source": [
    "table.export('info.csv', f='csv', compress=True) # json, excel, html, markdown, sqlite\n",
    "table\n",
    "\n"
   ]
  },
  {
   "cell_type": "code",
   "execution_count": null,
   "id": "47e34478",
   "metadata": {},
   "outputs": [],
   "source": [
    "table.parsing_report"
   ]
  },
  {
   "cell_type": "code",
   "execution_count": null,
   "id": "efaffc9f",
   "metadata": {},
   "outputs": [],
   "source": [
    "table[20].to_csv('info.csv') # to_json, to_excel, to_html, to_markdown, to_sqlite\n"
   ]
  },
  {
   "cell_type": "code",
   "execution_count": null,
   "id": "d517392b",
   "metadata": {},
   "outputs": [],
   "source": [
    "table[20].df"
   ]
  },
  {
   "cell_type": "code",
   "execution_count": null,
   "id": "d9aba42b",
   "metadata": {},
   "outputs": [],
   "source": []
  }
 ],
 "metadata": {
  "kernelspec": {
   "display_name": "Python 3 (ipykernel)",
   "language": "python",
   "name": "python3"
  },
  "language_info": {
   "codemirror_mode": {
    "name": "ipython",
    "version": 3
   },
   "file_extension": ".py",
   "mimetype": "text/x-python",
   "name": "python",
   "nbconvert_exporter": "python",
   "pygments_lexer": "ipython3",
   "version": "3.9.7"
  }
 },
 "nbformat": 4,
 "nbformat_minor": 5
}
